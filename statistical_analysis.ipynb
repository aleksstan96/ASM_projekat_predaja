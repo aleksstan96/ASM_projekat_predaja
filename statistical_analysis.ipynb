{
 "cells": [
  {
   "cell_type": "markdown",
   "metadata": {},
   "source": [
    "# Statistica Analysis"
   ]
  },
  {
   "cell_type": "markdown",
   "metadata": {},
   "source": [
    "1) Determine the average time between the two departures of each of the lines. What are the lines with the most common departures? What are the lines with the least common departures?"
   ]
  },
  {
   "cell_type": "code",
   "execution_count": 1,
   "metadata": {},
   "outputs": [],
   "source": [
    "import numpy as np\n",
    "import pandas as pd\n",
    "import datetime as dt\n",
    "from pandas import Timedelta\n",
    "\n",
    "cleaned_data_path = \"cleaned_data\""
   ]
  },
  {
   "cell_type": "markdown",
   "metadata": {},
   "source": [
    "### Reading the data"
   ]
  },
  {
   "cell_type": "code",
   "execution_count": 2,
   "metadata": {},
   "outputs": [],
   "source": [
    "stopTimes = pd.read_csv(f\"{cleaned_data_path}/stop_times.csv\", parse_dates=['arrival_time'])\n",
    "routes = pd.read_csv(f\"{cleaned_data_path}/routes.csv\")\n",
    "stops = pd.read_csv(f\"{cleaned_data_path}/stops.csv\")\n",
    "trips = pd.read_csv(f\"{cleaned_data_path}/trips.csv\")\n",
    "stopsRoutes = pd.read_csv(f\"{cleaned_data_path}/stops_routes.csv\")"
   ]
  },
  {
   "cell_type": "code",
   "execution_count": 3,
   "metadata": {},
   "outputs": [
    {
     "data": {
      "text/html": [
       "<div>\n",
       "<style scoped>\n",
       "    .dataframe tbody tr th:only-of-type {\n",
       "        vertical-align: middle;\n",
       "    }\n",
       "\n",
       "    .dataframe tbody tr th {\n",
       "        vertical-align: top;\n",
       "    }\n",
       "\n",
       "    .dataframe thead th {\n",
       "        text-align: right;\n",
       "    }\n",
       "</style>\n",
       "<table border=\"1\" class=\"dataframe\">\n",
       "  <thead>\n",
       "    <tr style=\"text-align: right;\">\n",
       "      <th></th>\n",
       "      <th>trip_id</th>\n",
       "      <th>arrival_time</th>\n",
       "      <th>stop_id</th>\n",
       "      <th>stop_sequence</th>\n",
       "    </tr>\n",
       "  </thead>\n",
       "  <tbody>\n",
       "    <tr>\n",
       "      <th>0</th>\n",
       "      <td>665800</td>\n",
       "      <td>2023-08-28 20:00:00</td>\n",
       "      <td>638</td>\n",
       "      <td>1</td>\n",
       "    </tr>\n",
       "    <tr>\n",
       "      <th>1</th>\n",
       "      <td>665800</td>\n",
       "      <td>2023-08-28 20:01:00</td>\n",
       "      <td>148</td>\n",
       "      <td>2</td>\n",
       "    </tr>\n",
       "  </tbody>\n",
       "</table>\n",
       "</div>"
      ],
      "text/plain": [
       "   trip_id        arrival_time  stop_id  stop_sequence\n",
       "0   665800 2023-08-28 20:00:00      638              1\n",
       "1   665800 2023-08-28 20:01:00      148              2"
      ]
     },
     "execution_count": 3,
     "metadata": {},
     "output_type": "execute_result"
    }
   ],
   "source": [
    "stopTimes.head(2)"
   ]
  },
  {
   "cell_type": "code",
   "execution_count": 4,
   "metadata": {},
   "outputs": [
    {
     "data": {
      "text/html": [
       "<div>\n",
       "<style scoped>\n",
       "    .dataframe tbody tr th:only-of-type {\n",
       "        vertical-align: middle;\n",
       "    }\n",
       "\n",
       "    .dataframe tbody tr th {\n",
       "        vertical-align: top;\n",
       "    }\n",
       "\n",
       "    .dataframe thead th {\n",
       "        text-align: right;\n",
       "    }\n",
       "</style>\n",
       "<table border=\"1\" class=\"dataframe\">\n",
       "  <thead>\n",
       "    <tr style=\"text-align: right;\">\n",
       "      <th></th>\n",
       "      <th>route_id</th>\n",
       "      <th>service_id</th>\n",
       "      <th>trip_id</th>\n",
       "      <th>direction_id</th>\n",
       "    </tr>\n",
       "  </thead>\n",
       "  <tbody>\n",
       "    <tr>\n",
       "      <th>0</th>\n",
       "      <td>2</td>\n",
       "      <td>Zimski-Subota</td>\n",
       "      <td>1421378</td>\n",
       "      <td>0</td>\n",
       "    </tr>\n",
       "    <tr>\n",
       "      <th>1</th>\n",
       "      <td>2</td>\n",
       "      <td>Zimski-Subota</td>\n",
       "      <td>1421379</td>\n",
       "      <td>0</td>\n",
       "    </tr>\n",
       "  </tbody>\n",
       "</table>\n",
       "</div>"
      ],
      "text/plain": [
       "   route_id     service_id  trip_id  direction_id\n",
       "0         2  Zimski-Subota  1421378             0\n",
       "1         2  Zimski-Subota  1421379             0"
      ]
     },
     "execution_count": 4,
     "metadata": {},
     "output_type": "execute_result"
    }
   ],
   "source": [
    "trips.head(2)"
   ]
  },
  {
   "cell_type": "code",
   "execution_count": 5,
   "metadata": {},
   "outputs": [
    {
     "data": {
      "text/plain": [
       "Zimski-Radni Dan    26366\n",
       "Zimski-Subota       20288\n",
       "Zimski-Nedelja      18373\n",
       "Name: service_id, dtype: int64"
      ]
     },
     "execution_count": 5,
     "metadata": {},
     "output_type": "execute_result"
    }
   ],
   "source": [
    "trips.service_id.value_counts()"
   ]
  },
  {
   "cell_type": "markdown",
   "metadata": {},
   "source": [
    "Comment: Only winter schedule is included. Freqiency will be calculated first by route AND direction, and then only by route (day of the week (service_id) won't be considered)"
   ]
  },
  {
   "cell_type": "code",
   "execution_count": 6,
   "metadata": {},
   "outputs": [
    {
     "data": {
      "text/html": [
       "<div>\n",
       "<style scoped>\n",
       "    .dataframe tbody tr th:only-of-type {\n",
       "        vertical-align: middle;\n",
       "    }\n",
       "\n",
       "    .dataframe tbody tr th {\n",
       "        vertical-align: top;\n",
       "    }\n",
       "\n",
       "    .dataframe thead th {\n",
       "        text-align: right;\n",
       "    }\n",
       "</style>\n",
       "<table border=\"1\" class=\"dataframe\">\n",
       "  <thead>\n",
       "    <tr style=\"text-align: right;\">\n",
       "      <th></th>\n",
       "      <th>trip_id</th>\n",
       "      <th>arrival_time</th>\n",
       "      <th>stop_id</th>\n",
       "      <th>stop_sequence</th>\n",
       "      <th>route_id</th>\n",
       "      <th>direction_id</th>\n",
       "    </tr>\n",
       "  </thead>\n",
       "  <tbody>\n",
       "    <tr>\n",
       "      <th>55351</th>\n",
       "      <td>1296049</td>\n",
       "      <td>2023-08-28 04:25:00</td>\n",
       "      <td>3117</td>\n",
       "      <td>1</td>\n",
       "      <td>553</td>\n",
       "      <td>0</td>\n",
       "    </tr>\n",
       "    <tr>\n",
       "      <th>50311</th>\n",
       "      <td>1197965</td>\n",
       "      <td>2023-08-28 05:20:00</td>\n",
       "      <td>3117</td>\n",
       "      <td>1</td>\n",
       "      <td>553</td>\n",
       "      <td>0</td>\n",
       "    </tr>\n",
       "    <tr>\n",
       "      <th>50332</th>\n",
       "      <td>1197987</td>\n",
       "      <td>2023-08-28 05:25:00</td>\n",
       "      <td>3117</td>\n",
       "      <td>1</td>\n",
       "      <td>553</td>\n",
       "      <td>0</td>\n",
       "    </tr>\n",
       "    <tr>\n",
       "      <th>50352</th>\n",
       "      <td>1198009</td>\n",
       "      <td>2023-08-28 05:25:00</td>\n",
       "      <td>3117</td>\n",
       "      <td>1</td>\n",
       "      <td>553</td>\n",
       "      <td>0</td>\n",
       "    </tr>\n",
       "    <tr>\n",
       "      <th>55353</th>\n",
       "      <td>1296051</td>\n",
       "      <td>2023-08-28 06:10:00</td>\n",
       "      <td>3117</td>\n",
       "      <td>1</td>\n",
       "      <td>553</td>\n",
       "      <td>0</td>\n",
       "    </tr>\n",
       "  </tbody>\n",
       "</table>\n",
       "</div>"
      ],
      "text/plain": [
       "       trip_id        arrival_time  stop_id  stop_sequence  route_id  \\\n",
       "55351  1296049 2023-08-28 04:25:00     3117              1       553   \n",
       "50311  1197965 2023-08-28 05:20:00     3117              1       553   \n",
       "50332  1197987 2023-08-28 05:25:00     3117              1       553   \n",
       "50352  1198009 2023-08-28 05:25:00     3117              1       553   \n",
       "55353  1296051 2023-08-28 06:10:00     3117              1       553   \n",
       "\n",
       "       direction_id  \n",
       "55351             0  \n",
       "50311             0  \n",
       "50332             0  \n",
       "50352             0  \n",
       "55353             0  "
      ]
     },
     "execution_count": 6,
     "metadata": {},
     "output_type": "execute_result"
    }
   ],
   "source": [
    "# example: rows that are duplicates after we remove trip_id. should we keep them?\n",
    "stopTimes[stopTimes.stop_sequence==1].merge(trips[['route_id', 'trip_id', 'direction_id']])[stopTimes[stopTimes.stop_sequence==1].merge(trips[['route_id', 'trip_id', 'direction_id']]).route_id==553].sort_values(['direction_id', 'arrival_time']).head(5)"
   ]
  },
  {
   "cell_type": "code",
   "execution_count": 7,
   "metadata": {},
   "outputs": [],
   "source": [
    "def format_timedelta(td):\n",
    "    hours, remainder = divmod(td.total_seconds(), 3600)\n",
    "    minutes, seconds = divmod(remainder, 60)\n",
    "    return f\"{int(hours):02}:{int(minutes):02}:{int(seconds):02}\""
   ]
  },
  {
   "cell_type": "code",
   "execution_count": 8,
   "metadata": {},
   "outputs": [
    {
     "name": "stdout",
     "output_type": "stream",
     "text": [
      "The most common routes and directions: \n"
     ]
    },
    {
     "name": "stderr",
     "output_type": "stream",
     "text": [
      "/tmp/ipykernel_1585/1203827844.py:10: FutureWarning: Not prepending group keys to the result index of transform-like apply. In the future, the group keys will be included in the index, regardless of whether the applied function returns a like-indexed object.\n",
      "To preserve the previous behavior, use\n",
      "\n",
      "\t>>> .groupby(..., group_keys=False)\n",
      "\n",
      "To adopt the future behavior and silence this warning, use \n",
      "\n",
      "\t>>> .groupby(..., group_keys=True)\n",
      "  .apply(lambda group: group.assign(difference=group['arrival_time'].diff())) # calculate difference between sequential departures within the same route and direction\n"
     ]
    },
    {
     "data": {
      "text/html": [
       "<div>\n",
       "<style scoped>\n",
       "    .dataframe tbody tr th:only-of-type {\n",
       "        vertical-align: middle;\n",
       "    }\n",
       "\n",
       "    .dataframe tbody tr th {\n",
       "        vertical-align: top;\n",
       "    }\n",
       "\n",
       "    .dataframe thead th {\n",
       "        text-align: right;\n",
       "    }\n",
       "</style>\n",
       "<table border=\"1\" class=\"dataframe\">\n",
       "  <thead>\n",
       "    <tr style=\"text-align: right;\">\n",
       "      <th></th>\n",
       "      <th>route_id</th>\n",
       "      <th>route_short_name</th>\n",
       "      <th>direction_id</th>\n",
       "      <th>average</th>\n",
       "    </tr>\n",
       "  </thead>\n",
       "  <tbody>\n",
       "    <tr>\n",
       "      <th>0</th>\n",
       "      <td>29</td>\n",
       "      <td>29</td>\n",
       "      <td>1</td>\n",
       "      <td>00:01:46</td>\n",
       "    </tr>\n",
       "    <tr>\n",
       "      <th>1</th>\n",
       "      <td>29</td>\n",
       "      <td>29</td>\n",
       "      <td>0</td>\n",
       "      <td>00:01:47</td>\n",
       "    </tr>\n",
       "    <tr>\n",
       "      <th>2</th>\n",
       "      <td>41</td>\n",
       "      <td>41</td>\n",
       "      <td>0</td>\n",
       "      <td>00:02:03</td>\n",
       "    </tr>\n",
       "    <tr>\n",
       "      <th>3</th>\n",
       "      <td>41</td>\n",
       "      <td>41</td>\n",
       "      <td>1</td>\n",
       "      <td>00:02:04</td>\n",
       "    </tr>\n",
       "    <tr>\n",
       "      <th>4</th>\n",
       "      <td>26</td>\n",
       "      <td>26</td>\n",
       "      <td>1</td>\n",
       "      <td>00:02:15</td>\n",
       "    </tr>\n",
       "  </tbody>\n",
       "</table>\n",
       "</div>"
      ],
      "text/plain": [
       "   route_id route_short_name  direction_id   average\n",
       "0        29               29             1  00:01:46\n",
       "1        29               29             0  00:01:47\n",
       "2        41               41             0  00:02:03\n",
       "3        41               41             1  00:02:04\n",
       "4        26               26             1  00:02:15"
      ]
     },
     "execution_count": 8,
     "metadata": {},
     "output_type": "execute_result"
    }
   ],
   "source": [
    "# average time between departures for each line and its direction\n",
    "avg_freq_by_route_and_direction = (\n",
    "    stopTimes[stopTimes.stop_sequence==1][['trip_id', 'arrival_time']]\n",
    "    .merge(trips[['route_id', 'trip_id', 'direction_id']])\n",
    "    .merge(routes[['route_id', 'route_short_name']])\n",
    "    .drop(['trip_id'], axis=1)\n",
    "     #.drop_duplicates() # should this be done? This changes result\n",
    "    .sort_values(['route_id', 'direction_id', 'arrival_time'])\n",
    "    .groupby(['route_id', 'route_short_name', 'direction_id'])\n",
    "    .apply(lambda group: group.assign(difference=group['arrival_time'].diff())) # calculate difference between sequential departures within the same route and direction\n",
    "    .groupby(['route_id', 'route_short_name', 'direction_id'])\n",
    "    .agg(\n",
    "        average=('difference', 'mean') # calculate the average time by route AND direction\n",
    "    )\n",
    "    .reset_index()\n",
    "    .query('not @pd.isna(average)')\n",
    "    .query('average > @pd.Timedelta(seconds=0)')\n",
    "    .sort_values(['average'])\n",
    "    .reset_index(drop=True)\n",
    "    )\n",
    "print(\"The most common routes and directions: \")\n",
    "avg_freq_by_route_and_direction.assign(average=lambda df: df['average'].apply(format_timedelta)).reset_index(drop=True).head(5)"
   ]
  },
  {
   "cell_type": "code",
   "execution_count": 9,
   "metadata": {},
   "outputs": [
    {
     "name": "stdout",
     "output_type": "stream",
     "text": [
      "The least common routes and directions: \n"
     ]
    },
    {
     "data": {
      "text/html": [
       "<div>\n",
       "<style scoped>\n",
       "    .dataframe tbody tr th:only-of-type {\n",
       "        vertical-align: middle;\n",
       "    }\n",
       "\n",
       "    .dataframe tbody tr th {\n",
       "        vertical-align: top;\n",
       "    }\n",
       "\n",
       "    .dataframe thead th {\n",
       "        text-align: right;\n",
       "    }\n",
       "</style>\n",
       "<table border=\"1\" class=\"dataframe\">\n",
       "  <thead>\n",
       "    <tr style=\"text-align: right;\">\n",
       "      <th></th>\n",
       "      <th>route_id</th>\n",
       "      <th>route_short_name</th>\n",
       "      <th>direction_id</th>\n",
       "      <th>average</th>\n",
       "    </tr>\n",
       "  </thead>\n",
       "  <tbody>\n",
       "    <tr>\n",
       "      <th>348</th>\n",
       "      <td>10035</td>\n",
       "      <td>35L</td>\n",
       "      <td>1</td>\n",
       "      <td>01:13:20</td>\n",
       "    </tr>\n",
       "    <tr>\n",
       "      <th>347</th>\n",
       "      <td>10035</td>\n",
       "      <td>35L</td>\n",
       "      <td>0</td>\n",
       "      <td>01:13:20</td>\n",
       "    </tr>\n",
       "    <tr>\n",
       "      <th>346</th>\n",
       "      <td>60</td>\n",
       "      <td>60</td>\n",
       "      <td>0</td>\n",
       "      <td>01:11:06</td>\n",
       "    </tr>\n",
       "    <tr>\n",
       "      <th>345</th>\n",
       "      <td>60</td>\n",
       "      <td>60</td>\n",
       "      <td>1</td>\n",
       "      <td>01:02:43</td>\n",
       "    </tr>\n",
       "    <tr>\n",
       "      <th>344</th>\n",
       "      <td>107</td>\n",
       "      <td>107</td>\n",
       "      <td>0</td>\n",
       "      <td>01:01:06</td>\n",
       "    </tr>\n",
       "    <tr>\n",
       "      <th>343</th>\n",
       "      <td>107</td>\n",
       "      <td>107</td>\n",
       "      <td>1</td>\n",
       "      <td>01:00:15</td>\n",
       "    </tr>\n",
       "    <tr>\n",
       "      <th>342</th>\n",
       "      <td>10056</td>\n",
       "      <td>56L</td>\n",
       "      <td>1</td>\n",
       "      <td>00:52:30</td>\n",
       "    </tr>\n",
       "    <tr>\n",
       "      <th>341</th>\n",
       "      <td>10056</td>\n",
       "      <td>56L</td>\n",
       "      <td>0</td>\n",
       "      <td>00:52:30</td>\n",
       "    </tr>\n",
       "    <tr>\n",
       "      <th>340</th>\n",
       "      <td>10032</td>\n",
       "      <td>32E</td>\n",
       "      <td>0</td>\n",
       "      <td>00:32:30</td>\n",
       "    </tr>\n",
       "    <tr>\n",
       "      <th>339</th>\n",
       "      <td>10032</td>\n",
       "      <td>32E</td>\n",
       "      <td>1</td>\n",
       "      <td>00:32:18</td>\n",
       "    </tr>\n",
       "  </tbody>\n",
       "</table>\n",
       "</div>"
      ],
      "text/plain": [
       "     route_id route_short_name  direction_id   average\n",
       "348     10035              35L             1  01:13:20\n",
       "347     10035              35L             0  01:13:20\n",
       "346        60               60             0  01:11:06\n",
       "345        60               60             1  01:02:43\n",
       "344       107              107             0  01:01:06\n",
       "343       107              107             1  01:00:15\n",
       "342     10056              56L             1  00:52:30\n",
       "341     10056              56L             0  00:52:30\n",
       "340     10032              32E             0  00:32:30\n",
       "339     10032              32E             1  00:32:18"
      ]
     },
     "execution_count": 9,
     "metadata": {},
     "output_type": "execute_result"
    }
   ],
   "source": [
    "print(\"The least common routes and directions: \")\n",
    "avg_freq_by_route_and_direction.assign(average=lambda df: df['average'].apply(format_timedelta)).reset_index(drop=True).tail(10)[::-1]"
   ]
  },
  {
   "cell_type": "code",
   "execution_count": 10,
   "metadata": {},
   "outputs": [
    {
     "name": "stdout",
     "output_type": "stream",
     "text": [
      "The most common routes: \n"
     ]
    },
    {
     "data": {
      "text/html": [
       "<div>\n",
       "<style scoped>\n",
       "    .dataframe tbody tr th:only-of-type {\n",
       "        vertical-align: middle;\n",
       "    }\n",
       "\n",
       "    .dataframe tbody tr th {\n",
       "        vertical-align: top;\n",
       "    }\n",
       "\n",
       "    .dataframe thead th {\n",
       "        text-align: right;\n",
       "    }\n",
       "</style>\n",
       "<table border=\"1\" class=\"dataframe\">\n",
       "  <thead>\n",
       "    <tr style=\"text-align: right;\">\n",
       "      <th></th>\n",
       "      <th>route_id</th>\n",
       "      <th>route_short_name</th>\n",
       "      <th>average</th>\n",
       "    </tr>\n",
       "  </thead>\n",
       "  <tbody>\n",
       "    <tr>\n",
       "      <th>0</th>\n",
       "      <td>29</td>\n",
       "      <td>29</td>\n",
       "      <td>00:01:46</td>\n",
       "    </tr>\n",
       "    <tr>\n",
       "      <th>1</th>\n",
       "      <td>41</td>\n",
       "      <td>41</td>\n",
       "      <td>00:02:04</td>\n",
       "    </tr>\n",
       "    <tr>\n",
       "      <th>2</th>\n",
       "      <td>26</td>\n",
       "      <td>26</td>\n",
       "      <td>00:02:17</td>\n",
       "    </tr>\n",
       "    <tr>\n",
       "      <th>3</th>\n",
       "      <td>31</td>\n",
       "      <td>31</td>\n",
       "      <td>00:02:26</td>\n",
       "    </tr>\n",
       "    <tr>\n",
       "      <th>4</th>\n",
       "      <td>309</td>\n",
       "      <td>309</td>\n",
       "      <td>00:02:35</td>\n",
       "    </tr>\n",
       "    <tr>\n",
       "      <th>5</th>\n",
       "      <td>95</td>\n",
       "      <td>95</td>\n",
       "      <td>00:02:37</td>\n",
       "    </tr>\n",
       "    <tr>\n",
       "      <th>6</th>\n",
       "      <td>50</td>\n",
       "      <td>50</td>\n",
       "      <td>00:02:46</td>\n",
       "    </tr>\n",
       "    <tr>\n",
       "      <th>7</th>\n",
       "      <td>16</td>\n",
       "      <td>16</td>\n",
       "      <td>00:02:54</td>\n",
       "    </tr>\n",
       "    <tr>\n",
       "      <th>8</th>\n",
       "      <td>15</td>\n",
       "      <td>15</td>\n",
       "      <td>00:02:55</td>\n",
       "    </tr>\n",
       "    <tr>\n",
       "      <th>9</th>\n",
       "      <td>511</td>\n",
       "      <td>511</td>\n",
       "      <td>00:02:55</td>\n",
       "    </tr>\n",
       "  </tbody>\n",
       "</table>\n",
       "</div>"
      ],
      "text/plain": [
       "   route_id route_short_name   average\n",
       "0        29               29  00:01:46\n",
       "1        41               41  00:02:04\n",
       "2        26               26  00:02:17\n",
       "3        31               31  00:02:26\n",
       "4       309              309  00:02:35\n",
       "5        95               95  00:02:37\n",
       "6        50               50  00:02:46\n",
       "7        16               16  00:02:54\n",
       "8        15               15  00:02:55\n",
       "9       511              511  00:02:55"
      ]
     },
     "execution_count": 10,
     "metadata": {},
     "output_type": "execute_result"
    }
   ],
   "source": [
    "# average time between departures for each line \n",
    "avg_freq_by_route = (\n",
    "    avg_freq_by_route_and_direction\n",
    "    .groupby(['route_id', 'route_short_name'])\n",
    "    .agg(\n",
    "        average=('average', 'mean') # calculate the average time by route \n",
    "    )\n",
    "    .reset_index()\n",
    "    .sort_values(['average'])\n",
    "    .assign(average=lambda df: df['average'].apply(format_timedelta))\n",
    "    .reset_index(drop=True)\n",
    ")\n",
    "print(\"The most common routes: \")\n",
    "avg_freq_by_route.head(10)"
   ]
  },
  {
   "cell_type": "code",
   "execution_count": 11,
   "metadata": {},
   "outputs": [
    {
     "name": "stdout",
     "output_type": "stream",
     "text": [
      "The least common routes: \n"
     ]
    },
    {
     "data": {
      "text/html": [
       "<div>\n",
       "<style scoped>\n",
       "    .dataframe tbody tr th:only-of-type {\n",
       "        vertical-align: middle;\n",
       "    }\n",
       "\n",
       "    .dataframe tbody tr th {\n",
       "        vertical-align: top;\n",
       "    }\n",
       "\n",
       "    .dataframe thead th {\n",
       "        text-align: right;\n",
       "    }\n",
       "</style>\n",
       "<table border=\"1\" class=\"dataframe\">\n",
       "  <thead>\n",
       "    <tr style=\"text-align: right;\">\n",
       "      <th></th>\n",
       "      <th>route_id</th>\n",
       "      <th>route_short_name</th>\n",
       "      <th>average</th>\n",
       "    </tr>\n",
       "  </thead>\n",
       "  <tbody>\n",
       "    <tr>\n",
       "      <th>177</th>\n",
       "      <td>10035</td>\n",
       "      <td>35L</td>\n",
       "      <td>01:13:20</td>\n",
       "    </tr>\n",
       "    <tr>\n",
       "      <th>176</th>\n",
       "      <td>60</td>\n",
       "      <td>60</td>\n",
       "      <td>01:06:55</td>\n",
       "    </tr>\n",
       "    <tr>\n",
       "      <th>175</th>\n",
       "      <td>107</td>\n",
       "      <td>107</td>\n",
       "      <td>01:00:41</td>\n",
       "    </tr>\n",
       "    <tr>\n",
       "      <th>174</th>\n",
       "      <td>10056</td>\n",
       "      <td>56L</td>\n",
       "      <td>00:52:30</td>\n",
       "    </tr>\n",
       "    <tr>\n",
       "      <th>173</th>\n",
       "      <td>10032</td>\n",
       "      <td>32E</td>\n",
       "      <td>00:32:24</td>\n",
       "    </tr>\n",
       "    <tr>\n",
       "      <th>172</th>\n",
       "      <td>607</td>\n",
       "      <td>607</td>\n",
       "      <td>00:31:57</td>\n",
       "    </tr>\n",
       "    <tr>\n",
       "      <th>171</th>\n",
       "      <td>109</td>\n",
       "      <td>109</td>\n",
       "      <td>00:26:03</td>\n",
       "    </tr>\n",
       "    <tr>\n",
       "      <th>170</th>\n",
       "      <td>10706</td>\n",
       "      <td>706E</td>\n",
       "      <td>00:25:54</td>\n",
       "    </tr>\n",
       "    <tr>\n",
       "      <th>169</th>\n",
       "      <td>110</td>\n",
       "      <td>110</td>\n",
       "      <td>00:25:13</td>\n",
       "    </tr>\n",
       "    <tr>\n",
       "      <th>168</th>\n",
       "      <td>553</td>\n",
       "      <td>553</td>\n",
       "      <td>00:24:23</td>\n",
       "    </tr>\n",
       "  </tbody>\n",
       "</table>\n",
       "</div>"
      ],
      "text/plain": [
       "     route_id route_short_name   average\n",
       "177     10035              35L  01:13:20\n",
       "176        60               60  01:06:55\n",
       "175       107              107  01:00:41\n",
       "174     10056              56L  00:52:30\n",
       "173     10032              32E  00:32:24\n",
       "172       607              607  00:31:57\n",
       "171       109              109  00:26:03\n",
       "170     10706             706E  00:25:54\n",
       "169       110              110  00:25:13\n",
       "168       553              553  00:24:23"
      ]
     },
     "execution_count": 11,
     "metadata": {},
     "output_type": "execute_result"
    }
   ],
   "source": [
    "print(\"The least common routes: \")\n",
    "avg_freq_by_route.tail(10)[::-1]"
   ]
  },
  {
   "cell_type": "markdown",
   "metadata": {},
   "source": [
    "2. Which are the lines with the highest number of stations? Which are the stations with the highest number of lines?"
   ]
  },
  {
   "cell_type": "code",
   "execution_count": 12,
   "metadata": {},
   "outputs": [
    {
     "data": {
      "text/html": [
       "<div>\n",
       "<style scoped>\n",
       "    .dataframe tbody tr th:only-of-type {\n",
       "        vertical-align: middle;\n",
       "    }\n",
       "\n",
       "    .dataframe tbody tr th {\n",
       "        vertical-align: top;\n",
       "    }\n",
       "\n",
       "    .dataframe thead th {\n",
       "        text-align: right;\n",
       "    }\n",
       "</style>\n",
       "<table border=\"1\" class=\"dataframe\">\n",
       "  <thead>\n",
       "    <tr style=\"text-align: right;\">\n",
       "      <th></th>\n",
       "      <th>stop_id</th>\n",
       "      <th>route_id</th>\n",
       "      <th>stop_name</th>\n",
       "    </tr>\n",
       "  </thead>\n",
       "  <tbody>\n",
       "    <tr>\n",
       "      <th>0</th>\n",
       "      <td>638</td>\n",
       "      <td>401</td>\n",
       "      <td>Birčaninova</td>\n",
       "    </tr>\n",
       "    <tr>\n",
       "      <th>1</th>\n",
       "      <td>638</td>\n",
       "      <td>59</td>\n",
       "      <td>Birčaninova</td>\n",
       "    </tr>\n",
       "  </tbody>\n",
       "</table>\n",
       "</div>"
      ],
      "text/plain": [
       "   stop_id  route_id    stop_name\n",
       "0      638       401  Birčaninova\n",
       "1      638        59  Birčaninova"
      ]
     },
     "execution_count": 12,
     "metadata": {},
     "output_type": "execute_result"
    }
   ],
   "source": [
    "stopsRoutes.head(2)"
   ]
  },
  {
   "cell_type": "code",
   "execution_count": 13,
   "metadata": {},
   "outputs": [
    {
     "name": "stdout",
     "output_type": "stream",
     "text": [
      "Lines with the highest number of stations\n"
     ]
    },
    {
     "data": {
      "text/html": [
       "<div>\n",
       "<style scoped>\n",
       "    .dataframe tbody tr th:only-of-type {\n",
       "        vertical-align: middle;\n",
       "    }\n",
       "\n",
       "    .dataframe tbody tr th {\n",
       "        vertical-align: top;\n",
       "    }\n",
       "\n",
       "    .dataframe thead th {\n",
       "        text-align: right;\n",
       "    }\n",
       "</style>\n",
       "<table border=\"1\" class=\"dataframe\">\n",
       "  <thead>\n",
       "    <tr style=\"text-align: right;\">\n",
       "      <th></th>\n",
       "      <th>route_id</th>\n",
       "      <th>num_of_stations</th>\n",
       "      <th>route_short_name</th>\n",
       "    </tr>\n",
       "  </thead>\n",
       "  <tbody>\n",
       "    <tr>\n",
       "      <th>0</th>\n",
       "      <td>10025</td>\n",
       "      <td>104</td>\n",
       "      <td>25P</td>\n",
       "    </tr>\n",
       "    <tr>\n",
       "      <th>1</th>\n",
       "      <td>605</td>\n",
       "      <td>103</td>\n",
       "      <td>605</td>\n",
       "    </tr>\n",
       "    <tr>\n",
       "      <th>2</th>\n",
       "      <td>74</td>\n",
       "      <td>97</td>\n",
       "      <td>74</td>\n",
       "    </tr>\n",
       "    <tr>\n",
       "      <th>3</th>\n",
       "      <td>94</td>\n",
       "      <td>97</td>\n",
       "      <td>94</td>\n",
       "    </tr>\n",
       "    <tr>\n",
       "      <th>4</th>\n",
       "      <td>610</td>\n",
       "      <td>94</td>\n",
       "      <td>610</td>\n",
       "    </tr>\n",
       "    <tr>\n",
       "      <th>5</th>\n",
       "      <td>90003</td>\n",
       "      <td>85</td>\n",
       "      <td>E6</td>\n",
       "    </tr>\n",
       "    <tr>\n",
       "      <th>6</th>\n",
       "      <td>73</td>\n",
       "      <td>84</td>\n",
       "      <td>73</td>\n",
       "    </tr>\n",
       "    <tr>\n",
       "      <th>7</th>\n",
       "      <td>302</td>\n",
       "      <td>83</td>\n",
       "      <td>302</td>\n",
       "    </tr>\n",
       "    <tr>\n",
       "      <th>8</th>\n",
       "      <td>95</td>\n",
       "      <td>82</td>\n",
       "      <td>95</td>\n",
       "    </tr>\n",
       "    <tr>\n",
       "      <th>9</th>\n",
       "      <td>405</td>\n",
       "      <td>81</td>\n",
       "      <td>405</td>\n",
       "    </tr>\n",
       "  </tbody>\n",
       "</table>\n",
       "</div>"
      ],
      "text/plain": [
       "   route_id  num_of_stations route_short_name\n",
       "0     10025              104              25P\n",
       "1       605              103              605\n",
       "2        74               97               74\n",
       "3        94               97               94\n",
       "4       610               94              610\n",
       "5     90003               85               E6\n",
       "6        73               84               73\n",
       "7       302               83              302\n",
       "8        95               82               95\n",
       "9       405               81              405"
      ]
     },
     "execution_count": 13,
     "metadata": {},
     "output_type": "execute_result"
    }
   ],
   "source": [
    "lines_with_top_stations = (\n",
    "    stopsRoutes\n",
    "    .groupby(['route_id'])['stop_id']\n",
    "    .nunique()\n",
    "    .sort_values(ascending=False)\n",
    "    .reset_index()\n",
    "    .merge(routes[['route_id', 'route_short_name']])\n",
    "    #.drop(['route_id'], axis=1)\n",
    "    .reset_index(drop=True)\n",
    "    .rename(columns={'stop_id': 'num_of_stations'})\n",
    ")\n",
    "print(\"Lines with the highest number of stations\")\n",
    "lines_with_top_stations.head(10)"
   ]
  },
  {
   "cell_type": "code",
   "execution_count": 17,
   "metadata": {},
   "outputs": [
    {
     "ename": "TypeError",
     "evalue": "Series.rename() got an unexpected keyword argument 'columns'",
     "output_type": "error",
     "traceback": [
      "\u001b[0;31m---------------------------------------------------------------------------\u001b[0m",
      "\u001b[0;31mTypeError\u001b[0m                                 Traceback (most recent call last)",
      "Cell \u001b[0;32mIn[17], line 2\u001b[0m\n\u001b[1;32m      1\u001b[0m stations_with_top_lines \u001b[39m=\u001b[39m (\n\u001b[0;32m----> 2\u001b[0m     stopsRoutes\n\u001b[1;32m      3\u001b[0m     \u001b[39m.\u001b[39;49mgroupby([\u001b[39m'\u001b[39;49m\u001b[39mstop_id\u001b[39;49m\u001b[39m'\u001b[39;49m, \u001b[39m'\u001b[39;49m\u001b[39mstop_name\u001b[39;49m\u001b[39m'\u001b[39;49m])[\u001b[39m'\u001b[39;49m\u001b[39mroute_id\u001b[39;49m\u001b[39m'\u001b[39;49m]\n\u001b[1;32m      4\u001b[0m     \u001b[39m.\u001b[39;49mnunique()\n\u001b[1;32m      5\u001b[0m     \u001b[39m.\u001b[39;49mreset_index(drop\u001b[39m=\u001b[39;49m\u001b[39mTrue\u001b[39;49;00m)\n\u001b[1;32m      6\u001b[0m     \u001b[39m.\u001b[39;49mrename(columns\u001b[39m=\u001b[39;49m{\u001b[39m'\u001b[39;49m\u001b[39mroute_id\u001b[39;49m\u001b[39m'\u001b[39;49m: \u001b[39m'\u001b[39;49m\u001b[39mnum_of_lines\u001b[39;49m\u001b[39m'\u001b[39;49m})\n\u001b[1;32m      7\u001b[0m     \u001b[39m.\u001b[39msort_values(ascending\u001b[39m=\u001b[39m\u001b[39mFalse\u001b[39;00m)\n\u001b[1;32m      8\u001b[0m     \u001b[39m#.drop(['route_id'], axis=1)\u001b[39;00m\n\u001b[1;32m      9\u001b[0m     \u001b[39m.\u001b[39mreset_index(drop\u001b[39m=\u001b[39m\u001b[39mTrue\u001b[39;00m)\n\u001b[1;32m     10\u001b[0m     \u001b[39m# .rename(columns={'route_id': 'num_of_lines'})\u001b[39;00m\n\u001b[1;32m     11\u001b[0m )\n\u001b[1;32m     12\u001b[0m \u001b[39mprint\u001b[39m(\u001b[39m\"\u001b[39m\u001b[39mStations with the highest number of lines\u001b[39m\u001b[39m\"\u001b[39m)\n\u001b[1;32m     13\u001b[0m stations_with_top_lines\u001b[39m.\u001b[39mhead(\u001b[39m10\u001b[39m)\n",
      "\u001b[0;31mTypeError\u001b[0m: Series.rename() got an unexpected keyword argument 'columns'"
     ]
    }
   ],
   "source": [
    "stations_with_top_lines = (\n",
    "    stopsRoutes\n",
    "    .groupby(['stop_id', 'stop_name'])['route_id']\n",
    "    .nunique()\n",
    "    .sort_values(ascending=False)\n",
    "    #.drop(['route_id'], axis=1)\n",
    "    .reset_index(drop=True)\n",
    "    .rename(columns={'route_id': 'num_of_lines'})\n",
    ")\n",
    "print(\"Stations with the highest number of lines\")\n",
    "stations_with_top_lines.head(10)"
   ]
  },
  {
   "cell_type": "markdown",
   "metadata": {},
   "source": [
    "3. Calculate the expected daily traffic for a certain station (stop) as the total expected number of line stops on that station, based on the planned schedule. Which are the stations with the highest traffic? "
   ]
  },
  {
   "cell_type": "markdown",
   "metadata": {},
   "source": [
    "Comment: Here, we're going to consider the day of the ride (service_id)."
   ]
  },
  {
   "cell_type": "code",
   "execution_count": 18,
   "metadata": {},
   "outputs": [
    {
     "name": "stdout",
     "output_type": "stream",
     "text": [
      "Stations (stops) with the highest traffic: \n",
      "\n",
      "Zimski-Radni Dan: \n",
      "\n"
     ]
    },
    {
     "data": {
      "text/html": [
       "<div>\n",
       "<style scoped>\n",
       "    .dataframe tbody tr th:only-of-type {\n",
       "        vertical-align: middle;\n",
       "    }\n",
       "\n",
       "    .dataframe tbody tr th {\n",
       "        vertical-align: top;\n",
       "    }\n",
       "\n",
       "    .dataframe thead th {\n",
       "        text-align: right;\n",
       "    }\n",
       "</style>\n",
       "<table border=\"1\" class=\"dataframe\">\n",
       "  <thead>\n",
       "    <tr style=\"text-align: right;\">\n",
       "      <th></th>\n",
       "      <th>stop_name</th>\n",
       "      <th>count</th>\n",
       "    </tr>\n",
       "  </thead>\n",
       "  <tbody>\n",
       "    <tr>\n",
       "      <th>1396</th>\n",
       "      <td>Sajam</td>\n",
       "      <td>1664</td>\n",
       "    </tr>\n",
       "    <tr>\n",
       "      <th>1393</th>\n",
       "      <td>Sajam</td>\n",
       "      <td>1656</td>\n",
       "    </tr>\n",
       "    <tr>\n",
       "      <th>1417</th>\n",
       "      <td>Ada Ciganlija</td>\n",
       "      <td>1643</td>\n",
       "    </tr>\n",
       "    <tr>\n",
       "      <th>355</th>\n",
       "      <td>Karađorđev Park</td>\n",
       "      <td>1622</td>\n",
       "    </tr>\n",
       "    <tr>\n",
       "      <th>352</th>\n",
       "      <td>Karađorđev Park</td>\n",
       "      <td>1619</td>\n",
       "    </tr>\n",
       "  </tbody>\n",
       "</table>\n",
       "</div>"
      ],
      "text/plain": [
       "            stop_name  count\n",
       "1396            Sajam   1664\n",
       "1393            Sajam   1656\n",
       "1417    Ada Ciganlija   1643\n",
       "355   Karađorđev Park   1622\n",
       "352   Karađorđev Park   1619"
      ]
     },
     "execution_count": 18,
     "metadata": {},
     "output_type": "execute_result"
    }
   ],
   "source": [
    "stop_traffic = (\n",
    "    stopTimes[['trip_id', 'stop_id']]\n",
    "    .merge(trips[['trip_id', 'service_id']])\n",
    "    .merge(stops[['stop_id', 'stop_name']])\n",
    "    .drop(['trip_id'], axis=1)\n",
    "    .groupby(['stop_id', 'stop_name', 'service_id'], as_index=False)['stop_id']\n",
    "    .count()\n",
    "    .sort_values(by=['stop_id'], ascending=False)\n",
    "    .rename(columns={'stop_id': 'count'})\n",
    ")\n",
    "print(\"Stations (stops) with the highest traffic: \\n\")\n",
    "print(\"Zimski-Radni Dan: \\n\")\n",
    "stop_traffic[stop_traffic.service_id==\"Zimski-Radni Dan\"].drop(['service_id'], axis=1).head()"
   ]
  },
  {
   "cell_type": "code",
   "execution_count": 19,
   "metadata": {},
   "outputs": [
    {
     "name": "stdout",
     "output_type": "stream",
     "text": [
      "Zimski-Subota: \n",
      "\n"
     ]
    },
    {
     "data": {
      "text/html": [
       "<div>\n",
       "<style scoped>\n",
       "    .dataframe tbody tr th:only-of-type {\n",
       "        vertical-align: middle;\n",
       "    }\n",
       "\n",
       "    .dataframe tbody tr th {\n",
       "        vertical-align: top;\n",
       "    }\n",
       "\n",
       "    .dataframe thead th {\n",
       "        text-align: right;\n",
       "    }\n",
       "</style>\n",
       "<table border=\"1\" class=\"dataframe\">\n",
       "  <thead>\n",
       "    <tr style=\"text-align: right;\">\n",
       "      <th></th>\n",
       "      <th>stop_name</th>\n",
       "      <th>count</th>\n",
       "    </tr>\n",
       "  </thead>\n",
       "  <tbody>\n",
       "    <tr>\n",
       "      <th>803</th>\n",
       "      <td>Brankov Most</td>\n",
       "      <td>1278</td>\n",
       "    </tr>\n",
       "    <tr>\n",
       "      <th>1394</th>\n",
       "      <td>Sajam</td>\n",
       "      <td>1208</td>\n",
       "    </tr>\n",
       "    <tr>\n",
       "      <th>1397</th>\n",
       "      <td>Sajam</td>\n",
       "      <td>1202</td>\n",
       "    </tr>\n",
       "    <tr>\n",
       "      <th>1418</th>\n",
       "      <td>Ada Ciganlija</td>\n",
       "      <td>1202</td>\n",
       "    </tr>\n",
       "    <tr>\n",
       "      <th>356</th>\n",
       "      <td>Karađorđev Park</td>\n",
       "      <td>1189</td>\n",
       "    </tr>\n",
       "  </tbody>\n",
       "</table>\n",
       "</div>"
      ],
      "text/plain": [
       "            stop_name  count\n",
       "803      Brankov Most   1278\n",
       "1394            Sajam   1208\n",
       "1397            Sajam   1202\n",
       "1418    Ada Ciganlija   1202\n",
       "356   Karađorđev Park   1189"
      ]
     },
     "execution_count": 19,
     "metadata": {},
     "output_type": "execute_result"
    }
   ],
   "source": [
    "print(\"Zimski-Subota: \\n\")\n",
    "stop_traffic[stop_traffic.service_id==\"Zimski-Subota\"].drop(['service_id'], axis=1).head()"
   ]
  },
  {
   "cell_type": "code",
   "execution_count": 20,
   "metadata": {},
   "outputs": [
    {
     "name": "stdout",
     "output_type": "stream",
     "text": [
      "Zimski-Nedelja: \n",
      "\n"
     ]
    },
    {
     "data": {
      "text/html": [
       "<div>\n",
       "<style scoped>\n",
       "    .dataframe tbody tr th:only-of-type {\n",
       "        vertical-align: middle;\n",
       "    }\n",
       "\n",
       "    .dataframe tbody tr th {\n",
       "        vertical-align: top;\n",
       "    }\n",
       "\n",
       "    .dataframe thead th {\n",
       "        text-align: right;\n",
       "    }\n",
       "</style>\n",
       "<table border=\"1\" class=\"dataframe\">\n",
       "  <thead>\n",
       "    <tr style=\"text-align: right;\">\n",
       "      <th></th>\n",
       "      <th>stop_name</th>\n",
       "      <th>count</th>\n",
       "    </tr>\n",
       "  </thead>\n",
       "  <tbody>\n",
       "    <tr>\n",
       "      <th>803</th>\n",
       "      <td>Brankov Most</td>\n",
       "      <td>1278</td>\n",
       "    </tr>\n",
       "    <tr>\n",
       "      <th>1394</th>\n",
       "      <td>Sajam</td>\n",
       "      <td>1208</td>\n",
       "    </tr>\n",
       "    <tr>\n",
       "      <th>1397</th>\n",
       "      <td>Sajam</td>\n",
       "      <td>1202</td>\n",
       "    </tr>\n",
       "    <tr>\n",
       "      <th>1418</th>\n",
       "      <td>Ada Ciganlija</td>\n",
       "      <td>1202</td>\n",
       "    </tr>\n",
       "    <tr>\n",
       "      <th>356</th>\n",
       "      <td>Karađorđev Park</td>\n",
       "      <td>1189</td>\n",
       "    </tr>\n",
       "  </tbody>\n",
       "</table>\n",
       "</div>"
      ],
      "text/plain": [
       "            stop_name  count\n",
       "803      Brankov Most   1278\n",
       "1394            Sajam   1208\n",
       "1397            Sajam   1202\n",
       "1418    Ada Ciganlija   1202\n",
       "356   Karađorđev Park   1189"
      ]
     },
     "execution_count": 20,
     "metadata": {},
     "output_type": "execute_result"
    }
   ],
   "source": [
    "print(\"Zimski-Nedelja: \\n\")\n",
    "stop_traffic[stop_traffic.service_id==\"Zimski-Subota\"].drop(['service_id'], axis=1).head()"
   ]
  },
  {
   "cell_type": "markdown",
   "metadata": {},
   "source": [
    "4. Assign each station a category based on the type of transition that passes through that station (bus station, tram station, trolleybus station or mixed station). How many stations of each category there are?"
   ]
  },
  {
   "cell_type": "markdown",
   "metadata": {},
   "source": [
    "Comment on route_type : 0 - tram, 3 - bus, 702 - E line, 800 - trolleybus \n",
    "E lines are considered as buses."
   ]
  },
  {
   "cell_type": "code",
   "execution_count": 21,
   "metadata": {},
   "outputs": [],
   "source": [
    "routes_redefined = routes[['route_id', 'route_type']].copy()\n",
    "routes_redefined.loc[routes_redefined['route_type'] == 702, 'route_type'] = 3 # change route_type of E line to be the same as bus"
   ]
  },
  {
   "cell_type": "code",
   "execution_count": 22,
   "metadata": {},
   "outputs": [
    {
     "name": "stdout",
     "output_type": "stream",
     "text": [
      "Number of stations by categories: \n"
     ]
    },
    {
     "data": {
      "text/plain": [
       "Bus           2858\n",
       "Mixed          170\n",
       "Tram            88\n",
       "Trolleybus      11\n",
       "Name: stop_type, dtype: int64"
      ]
     },
     "execution_count": 22,
     "metadata": {},
     "output_type": "execute_result"
    }
   ],
   "source": [
    "def format_stop_type():\n",
    "    pass\n",
    "stop_types_df = (\n",
    "    stopsRoutes\n",
    "    .merge(routes_redefined)\n",
    "    .drop('route_id', axis=1)\n",
    "    .groupby(['stop_id', 'stop_name'], as_index=False)['route_type']\n",
    "    .agg({'route_type': 'max', 'num_types': 'nunique'})\n",
    "    #.drop(['route_id'], axis=1)\n",
    "    .reset_index(drop=True)\n",
    "    #.assign(num_of_types=lambda df: df['route_type'].apply(format_stop_type))\n",
    "    .assign(stop_type=lambda df: np.where(df['num_types'] > 1, 'Mixed', df['route_type']))\n",
    "    .drop(['num_types', 'route_type'], axis=1)\n",
    "    .assign(stop_type=lambda df: df['stop_type'].replace({'0': 'Tram', '3': 'Bus', '800': 'Trolleybus'}))\n",
    ")\n",
    "print(\"Number of stations by categories: \")\n",
    "stop_types_df.stop_type.value_counts()"
   ]
  },
  {
   "cell_type": "code",
   "execution_count": 25,
   "metadata": {},
   "outputs": [],
   "source": [
    "stop_types_df.to_csv('cleaned_data/stop_types_df.csv', index=False)"
   ]
  },
  {
   "cell_type": "code",
   "execution_count": null,
   "metadata": {},
   "outputs": [],
   "source": []
  }
 ],
 "metadata": {
  "kernelspec": {
   "display_name": "Python 3",
   "language": "python",
   "name": "python3"
  },
  "language_info": {
   "codemirror_mode": {
    "name": "ipython",
    "version": 3
   },
   "file_extension": ".py",
   "mimetype": "text/x-python",
   "name": "python",
   "nbconvert_exporter": "python",
   "pygments_lexer": "ipython3",
   "version": "3.10.12"
  },
  "orig_nbformat": 4
 },
 "nbformat": 4,
 "nbformat_minor": 2
}
